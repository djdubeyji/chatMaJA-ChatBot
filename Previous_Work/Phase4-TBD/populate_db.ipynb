{
 "cells": [
  {
   "cell_type": "code",
   "execution_count": 1,
   "metadata": {},
   "outputs": [
    {
     "name": "stdout",
     "output_type": "stream",
     "text": [
      "\n",
      "=== start connecting to Milvus     ===\n",
      "\n"
     ]
    }
   ],
   "source": [
    "import time\n",
    "\n",
    "import numpy as np\n",
    "from pymilvus import (\n",
    "    connections,\n",
    "    utility,\n",
    "    FieldSchema, CollectionSchema, DataType,\n",
    "    Collection,\n",
    ")\n",
    "\n",
    "fmt = \"\\n=== {:30} ===\\n\"\n",
    "search_latency_fmt = \"search latency = {:.4f}s\"\n",
    "num_entities, dim = 3000, 8\n",
    "\n",
    "#################################################################################\n",
    "# 1. connect to Milvus\n",
    "# Add a new connection alias `default` for Milvus server in `localhost:19530`\n",
    "# Actually the \"default\" alias is a buildin in PyMilvus.\n",
    "# If the address of Milvus is the same as `localhost:19530`, you can omit all\n",
    "# parameters and call the method as: `connections.connect()`.\n",
    "#\n",
    "# Note: the `using` parameter of the following methods is default to \"default\".\n",
    "print(fmt.format(\"start connecting to Milvus\"))\n",
    "connections.connect(\"default\", host=\"localhost\", port=\"19530\")"
   ]
  },
  {
   "cell_type": "code",
   "execution_count": 2,
   "metadata": {},
   "outputs": [],
   "source": [
    "utility.drop_collection(\"test\")"
   ]
  },
  {
   "cell_type": "code",
   "execution_count": 3,
   "metadata": {},
   "outputs": [
    {
     "name": "stdout",
     "output_type": "stream",
     "text": [
      "Does collection test exist in Milvus: False\n"
     ]
    }
   ],
   "source": [
    "has = utility.has_collection(\"test\")\n",
    "print(f\"Does collection test exist in Milvus: {has}\")"
   ]
  },
  {
   "cell_type": "code",
   "execution_count": 4,
   "metadata": {},
   "outputs": [
    {
     "name": "stdout",
     "output_type": "stream",
     "text": [
      "\n",
      "=== Create collection `test`       ===\n",
      "\n"
     ]
    }
   ],
   "source": [
    "fields = [\n",
    "    FieldSchema(name=\"pmid\", dtype=DataType.INT64, is_primary=True, auto_id=False, max_length=100),\n",
    "    FieldSchema(name=\"title\", dtype=DataType.VARCHAR, max_length=500),\n",
    "    FieldSchema(name=\"chunk\", dtype=DataType.VARCHAR, max_length=2048),\n",
    "    FieldSchema(name=\"abstract_embedded\", dtype=DataType.FLOAT_VECTOR, dim=768)\n",
    "]\n",
    "\n",
    "schema = CollectionSchema(fields, \"test db\")\n",
    "\n",
    "print(fmt.format(\"Create collection `test`\"))\n",
    "test = Collection(\"test\", schema, consistency_level=\"Strong\")"
   ]
  },
  {
   "cell_type": "code",
   "execution_count": 6,
   "metadata": {},
   "outputs": [
    {
     "data": {
      "text/html": [
       "<div>\n",
       "<style scoped>\n",
       "    .dataframe tbody tr th:only-of-type {\n",
       "        vertical-align: middle;\n",
       "    }\n",
       "\n",
       "    .dataframe tbody tr th {\n",
       "        vertical-align: top;\n",
       "    }\n",
       "\n",
       "    .dataframe thead th {\n",
       "        text-align: right;\n",
       "    }\n",
       "</style>\n",
       "<table border=\"1\" class=\"dataframe\">\n",
       "  <thead>\n",
       "    <tr style=\"text-align: right;\">\n",
       "      <th></th>\n",
       "      <th>id</th>\n",
       "      <th>title</th>\n",
       "      <th>chunk</th>\n",
       "      <th>chunk_embedded</th>\n",
       "    </tr>\n",
       "  </thead>\n",
       "  <tbody>\n",
       "    <tr>\n",
       "      <th>0</th>\n",
       "      <td>379829911</td>\n",
       "      <td>Efficacy and Safety of Methylphenidate and Ato...</td>\n",
       "      <td>BACKGROUND AND OBJECTIVE: Methylphenidate (MPH...</td>\n",
       "      <td>[-0.21812883019447327, 0.00931312795728445, 0....</td>\n",
       "    </tr>\n",
       "    <tr>\n",
       "      <th>1</th>\n",
       "      <td>379829912</td>\n",
       "      <td>Efficacy and Safety of Methylphenidate and Ato...</td>\n",
       "      <td>analyze correlations associated with age, sex,...</td>\n",
       "      <td>[-0.24057511985301971, 0.13817532360553741, 0....</td>\n",
       "    </tr>\n",
       "    <tr>\n",
       "      <th>2</th>\n",
       "      <td>379829913</td>\n",
       "      <td>Efficacy and Safety of Methylphenidate and Ato...</td>\n",
       "      <td>and AEs associated with age, sex, and differen...</td>\n",
       "      <td>[-0.4178210496902466, -0.026887519285082817, 0...</td>\n",
       "    </tr>\n",
       "    <tr>\n",
       "      <th>3</th>\n",
       "      <td>379829914</td>\n",
       "      <td>Efficacy and Safety of Methylphenidate and Ato...</td>\n",
       "      <td>response rates were 84.6% in the MPH-treated g...</td>\n",
       "      <td>[-0.5015849471092224, -0.08108298480510712, 0....</td>\n",
       "    </tr>\n",
       "    <tr>\n",
       "      <th>4</th>\n",
       "      <td>379829915</td>\n",
       "      <td>Efficacy and Safety of Methylphenidate and Ato...</td>\n",
       "      <td>children experienced AEs during MPH treatment,...</td>\n",
       "      <td>[-0.6629533171653748, -0.0032602110877633095, ...</td>\n",
       "    </tr>\n",
       "  </tbody>\n",
       "</table>\n",
       "</div>"
      ],
      "text/plain": [
       "          id                                              title  \\\n",
       "0  379829911  Efficacy and Safety of Methylphenidate and Ato...   \n",
       "1  379829912  Efficacy and Safety of Methylphenidate and Ato...   \n",
       "2  379829913  Efficacy and Safety of Methylphenidate and Ato...   \n",
       "3  379829914  Efficacy and Safety of Methylphenidate and Ato...   \n",
       "4  379829915  Efficacy and Safety of Methylphenidate and Ato...   \n",
       "\n",
       "                                               chunk  \\\n",
       "0  BACKGROUND AND OBJECTIVE: Methylphenidate (MPH...   \n",
       "1  analyze correlations associated with age, sex,...   \n",
       "2  and AEs associated with age, sex, and differen...   \n",
       "3  response rates were 84.6% in the MPH-treated g...   \n",
       "4  children experienced AEs during MPH treatment,...   \n",
       "\n",
       "                                      chunk_embedded  \n",
       "0  [-0.21812883019447327, 0.00931312795728445, 0....  \n",
       "1  [-0.24057511985301971, 0.13817532360553741, 0....  \n",
       "2  [-0.4178210496902466, -0.026887519285082817, 0...  \n",
       "3  [-0.5015849471092224, -0.08108298480510712, 0....  \n",
       "4  [-0.6629533171653748, -0.0032602110877633095, ...  "
      ]
     },
     "execution_count": 6,
     "metadata": {},
     "output_type": "execute_result"
    }
   ],
   "source": [
    "import pandas as pd\n",
    "df = pd.read_csv('data/New Master/master_with_embeddings.csv')\n",
    "df.head()"
   ]
  },
  {
   "cell_type": "code",
   "execution_count": 17,
   "metadata": {},
   "outputs": [],
   "source": [
    "df['splitted_chunk'] = df['chunk'].str.split(' ')"
   ]
  },
  {
   "cell_type": "code",
   "execution_count": 52,
   "metadata": {},
   "outputs": [
    {
     "data": {
      "text/plain": [
       "0      [BACKGROUND, AND, OBJECTIVE:, Methylphenidate,...\n",
       "1      [Study, participants, were, treated, with, eit...\n",
       "2      [RESULTS:, A, total, of, 1050, children, were,...\n",
       "3      [05)., The, response, rates, were, 84., 6%, in...\n",
       "4      [3%, in, the, ATX-treated, group., Subgroup, a...\n",
       "                             ...                        \n",
       "501    [The, rapid, development, of, social, reform, ...\n",
       "502    [This, paper, discusses, the, principle, of, A...\n",
       "503    [This, paper, takes, foreign, and, non-foreign...\n",
       "504    [Psychological, health, problems, include, lea...\n",
       "505    [This, paper, hopes, to, provide, data, refere...\n",
       "Name: splitted_chunk, Length: 506, dtype: object"
      ]
     },
     "execution_count": 52,
     "metadata": {},
     "output_type": "execute_result"
    }
   ],
   "source": [
    "df['splitted_chunk']"
   ]
  },
  {
   "cell_type": "code",
   "execution_count": 7,
   "metadata": {},
   "outputs": [],
   "source": [
    "import ast\n",
    "Embedings = [ast.literal_eval(x) for x in df.chunk_embedded]\n",
    "entities = [list(df.id), list(df.title), list(df.chunk), Embedings]"
   ]
  },
  {
   "cell_type": "code",
   "execution_count": 8,
   "metadata": {},
   "outputs": [
    {
     "name": "stdout",
     "output_type": "stream",
     "text": [
      "Number of entities in Milvus: 412\n"
     ]
    }
   ],
   "source": [
    "insert_result = test.insert(entities)\n",
    "test.flush()\n",
    "print(f\"Number of entities in Milvus: {test.num_entities}\")  "
   ]
  },
  {
   "cell_type": "code",
   "execution_count": 9,
   "metadata": {},
   "outputs": [
    {
     "name": "stderr",
     "output_type": "stream",
     "text": [
      "Some weights of the model checkpoint at bert-base-uncased were not used when initializing BertModel: ['cls.predictions.bias', 'cls.predictions.decoder.weight', 'cls.seq_relationship.bias', 'cls.seq_relationship.weight', 'cls.predictions.transform.LayerNorm.bias', 'cls.predictions.transform.LayerNorm.weight', 'cls.predictions.transform.dense.bias', 'cls.predictions.transform.dense.weight']\n",
      "- This IS expected if you are initializing BertModel from the checkpoint of a model trained on another task or with another architecture (e.g. initializing a BertForSequenceClassification model from a BertForPreTraining model).\n",
      "- This IS NOT expected if you are initializing BertModel from the checkpoint of a model that you expect to be exactly identical (initializing a BertForSequenceClassification model from a BertForSequenceClassification model).\n"
     ]
    }
   ],
   "source": [
    "import torch\n",
    "from transformers import AutoTokenizer, AutoModel\n",
    "\n",
    "# Load pre-trained BERT model and tokenizer\n",
    "bert_model_name = 'bert-base-uncased'\n",
    "tokenizer = AutoTokenizer.from_pretrained(bert_model_name)\n",
    "bert_model = AutoModel.from_pretrained(bert_model_name)\n",
    "\n",
    "def embed_text_with_bert(text, tokenizer=tokenizer, bert_model=bert_model):\n",
    "    # Tokenize and embed text using BERT\n",
    "    tokenized_text = tokenizer(text, return_tensors='pt', truncation=True, padding=True)\n",
    "    with torch.no_grad():\n",
    "        model_output = bert_model(**tokenized_text)\n",
    "        embedding = model_output.last_hidden_state.mean(dim=1)\n",
    "\n",
    "    return embedding.squeeze().tolist()"
   ]
  },
  {
   "cell_type": "code",
   "execution_count": 10,
   "metadata": {},
   "outputs": [
    {
     "data": {
      "text/plain": [
       "Status(code=0, message=)"
      ]
     },
     "execution_count": 10,
     "metadata": {},
     "output_type": "execute_result"
    }
   ],
   "source": [
    "index = {\n",
    "    \"index_type\": \"IVF_FLAT\",\n",
    "    \"metric_type\": \"IP\",\n",
    "    \"params\": {\"nlist\": 128},\n",
    "}\n",
    "\n",
    "test.create_index(\"abstract_embedded\", index)"
   ]
  },
  {
   "cell_type": "code",
   "execution_count": 11,
   "metadata": {},
   "outputs": [],
   "source": [
    "#test.release()\n",
    "#test.drop_index()\n",
    "test.load()"
   ]
  },
  {
   "cell_type": "code",
   "execution_count": 12,
   "metadata": {},
   "outputs": [],
   "source": [
    "vector_to_search = embed_text_with_bert('Tell me something about autism disease')\n",
    "search_params = {\n",
    "    \"metric_type\": \"IP\",#,\n",
    "    #\"params\": {\"nprobe\": 10},\n",
    "    \"expr\": \"id == 379751973\"\n",
    "}\n",
    "result = test.search([vector_to_search], \"abstract_embedded\", search_params, limit=10, output_fields=[\"title\"])"
   ]
  },
  {
   "cell_type": "code",
   "execution_count": 13,
   "metadata": {},
   "outputs": [
    {
     "name": "stdout",
     "output_type": "stream",
     "text": [
      "hit: id: 379795015, distance: 45.9149169921875, entity: {'title': 'Development and feasibility testing of an artificially intelligent chatbot to answer immunization-related queries of caregivers in Pakistan: A mixed-methods study.'}, title field: Development and feasibility testing of an artificially intelligent chatbot to answer immunization-related queries of caregivers in Pakistan: A mixed-methods study.\n",
      "hit: id: 379809283, distance: 44.752960205078125, entity: {'title': 'Automatic machine learning versus human knowledge-based models, property-based models and the fatigue problem.'}, title field: Automatic machine learning versus human knowledge-based models, property-based models and the fatigue problem.\n",
      "hit: id: 379782666, distance: 44.15021514892578, entity: {'title': 'Prediction of therapeutic intensity level from automatic multiclass segmentation of traumatic brain injury lesions on CT-scans.'}, title field: Prediction of therapeutic intensity level from automatic multiclass segmentation of traumatic brain injury lesions on CT-scans.\n",
      "hit: id: 379819187, distance: 43.988189697265625, entity: {'title': 'CovSegNet: A Multi Encoder-Decoder Architecture for Improved Lesion Segmentation of COVID-19 Chest CT Scans.'}, title field: CovSegNet: A Multi Encoder-Decoder Architecture for Improved Lesion Segmentation of COVID-19 Chest CT Scans.\n",
      "hit: id: 379776613, distance: 43.91358947753906, entity: {'title': 'The 2022 top 10 list of endoscopy topics in medical publishing: an annual review by the American Society for Gastrointestinal Endoscopy Editorial Board.'}, title field: The 2022 top 10 list of endoscopy topics in medical publishing: an annual review by the American Society for Gastrointestinal Endoscopy Editorial Board.\n",
      "hit: id: 379745684, distance: 43.68367004394531, entity: {'title': '\"Just the Facts Ma\\'am\": Moral and Ethical Considerations for Artificial Intelligence in Medicine and its Potential to Impact Patient Autonomy and Hope.'}, title field: \"Just the Facts Ma'am\": Moral and Ethical Considerations for Artificial Intelligence in Medicine and its Potential to Impact Patient Autonomy and Hope.\n",
      "hit: id: 379770616, distance: 43.65376281738281, entity: {'title': 'A robust interpolation-based method for forensic soil provenancing: A Bayesian likelihood ratio approach.'}, title field: A robust interpolation-based method for forensic soil provenancing: A Bayesian likelihood ratio approach.\n",
      "hit: id: 379770395, distance: 43.53611755371094, entity: {'title': 'Models of spiritual intelligence interventions: A scoping review.'}, title field: Models of spiritual intelligence interventions: A scoping review.\n",
      "hit: id: 379803964, distance: 43.524169921875, entity: {'title': 'New acoustic monitoring system quantifying aspiration risk during monitored anaesthesia care.'}, title field: New acoustic monitoring system quantifying aspiration risk during monitored anaesthesia care.\n",
      "hit: id: 379796535, distance: 43.47686004638672, entity: {'title': 'Uncertainty-based Active Learning by Bayesian U-Net for Multi-label Cone-Beam CT Segmentation.'}, title field: Uncertainty-based Active Learning by Bayesian U-Net for Multi-label Cone-Beam CT Segmentation.\n"
     ]
    }
   ],
   "source": [
    "\n",
    "for hits in result:\n",
    "    for hit in hits:\n",
    "        print(f\"hit: {hit}, title field: {hit.entity.get('title')}\")"
   ]
  },
  {
   "cell_type": "code",
   "execution_count": 14,
   "metadata": {},
   "outputs": [
    {
     "data": {
      "text/plain": [
       "768"
      ]
     },
     "execution_count": 14,
     "metadata": {},
     "output_type": "execute_result"
    }
   ],
   "source": [
    "len(vector_to_search)"
   ]
  },
  {
   "cell_type": "code",
   "execution_count": null,
   "metadata": {},
   "outputs": [],
   "source": []
  }
 ],
 "metadata": {
  "kernelspec": {
   "display_name": "base",
   "language": "python",
   "name": "python3"
  },
  "language_info": {
   "codemirror_mode": {
    "name": "ipython",
    "version": 3
   },
   "file_extension": ".py",
   "mimetype": "text/x-python",
   "name": "python",
   "nbconvert_exporter": "python",
   "pygments_lexer": "ipython3",
   "version": "3.8.10"
  }
 },
 "nbformat": 4,
 "nbformat_minor": 2
}
