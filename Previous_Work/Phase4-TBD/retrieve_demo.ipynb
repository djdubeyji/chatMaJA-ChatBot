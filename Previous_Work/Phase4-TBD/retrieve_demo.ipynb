{
 "cells": [
  {
   "cell_type": "code",
   "execution_count": 1,
   "metadata": {},
   "outputs": [
    {
     "name": "stdout",
     "output_type": "stream",
     "text": [
      "\n",
      "=== start connecting to Milvus     ===\n",
      "\n"
     ]
    }
   ],
   "source": [
    "import time\n",
    "import pandas as pd\n",
    "import numpy as np\n",
    "from IPython.display import display, HTML\n",
    "from pymilvus import (\n",
    "    connections,\n",
    "    utility,\n",
    "    FieldSchema, CollectionSchema, DataType,\n",
    "    Collection,\n",
    ")\n",
    "\n",
    "fmt = \"\\n=== {:30} ===\\n\"\n",
    "search_latency_fmt = \"search latency = {:.4f}s\"\n",
    "num_entities, dim = 3000, 8\n",
    "\n",
    "#################################################################################\n",
    "# 1. connect to Milvus\n",
    "# Add a new connection alias `default` for Milvus server in `localhost:19530`\n",
    "# Actually the \"default\" alias is a buildin in PyMilvus.\n",
    "# If the address of Milvus is the same as `localhost:19530`, you can omit all\n",
    "# parameters and call the method as: `connections.connect()`.\n",
    "#\n",
    "# Note: the `using` parameter of the following methods is default to \"default\".\n",
    "print(fmt.format(\"start connecting to Milvus\"))\n",
    "connections.connect(\"default\", host=\"localhost\", port=\"19530\")\n",
    "\n",
    "test = Collection(\"test\",consistency_level=\"Strong\")\n",
    "test.load()"
   ]
  },
  {
   "cell_type": "code",
   "execution_count": 2,
   "metadata": {},
   "outputs": [
    {
     "name": "stderr",
     "output_type": "stream",
     "text": [
      "Some weights of the model checkpoint at bert-base-uncased were not used when initializing BertModel: ['cls.predictions.transform.dense.weight', 'cls.predictions.bias', 'cls.predictions.decoder.weight', 'cls.predictions.transform.LayerNorm.bias', 'cls.seq_relationship.weight', 'cls.seq_relationship.bias', 'cls.predictions.transform.dense.bias', 'cls.predictions.transform.LayerNorm.weight']\n",
      "- This IS expected if you are initializing BertModel from the checkpoint of a model trained on another task or with another architecture (e.g. initializing a BertForSequenceClassification model from a BertForPreTraining model).\n",
      "- This IS NOT expected if you are initializing BertModel from the checkpoint of a model that you expect to be exactly identical (initializing a BertForSequenceClassification model from a BertForSequenceClassification model).\n"
     ]
    }
   ],
   "source": [
    "import torch\n",
    "from transformers import AutoTokenizer, AutoModel\n",
    "\n",
    "# Load pre-trained BERT model and tokenizer\n",
    "bert_model_name = 'bert-base-uncased'\n",
    "tokenizer = AutoTokenizer.from_pretrained(bert_model_name)\n",
    "bert_model = AutoModel.from_pretrained(bert_model_name)\n",
    "\n",
    "def embed_text_with_bert(text, tokenizer=tokenizer, bert_model=bert_model):\n",
    "    # Tokenize and embed text using BERT\n",
    "    tokenized_text = tokenizer(text, return_tensors='pt', truncation=True, padding=True)\n",
    "    with torch.no_grad():\n",
    "        model_output = bert_model(**tokenized_text)\n",
    "        embedding = model_output.last_hidden_state.mean(dim=1)\n",
    "\n",
    "    return embedding.squeeze().tolist()"
   ]
  },
  {
   "cell_type": "code",
   "execution_count": 3,
   "metadata": {},
   "outputs": [],
   "source": [
    "def retrieve_relevant_chunks(query, limit=10, collection=test, tokenizer=tokenizer, bert_model=bert_model):\n",
    "    return_df = pd.DataFrame(columns=['id', 'metric', 'title'])#, 'chunk'])\n",
    "    vector_to_search = embed_text_with_bert(query)\n",
    "    search_params = {\n",
    "        \"metric_type\": \"IP\"\n",
    "    }\n",
    "    result = test.search([vector_to_search], \"abstract_embedded\", search_params, limit=limit, output_fields=[\"title\"])#, 'chunk'])\n",
    "    for hits in result:\n",
    "        for hit in hits:\n",
    "            return_df = return_df.append({'id':hit.id, 'metric':hit.distance, 'title':hit.entity.get('title')}, ignore_index=True) # 'chunk':hit.entity.get('chunk')},\n",
    "    return return_df\n"
   ]
  },
  {
   "cell_type": "code",
   "execution_count": 4,
   "metadata": {},
   "outputs": [
    {
     "name": "stderr",
     "output_type": "stream",
     "text": [
      "C:\\Users\\akaga\\AppData\\Local\\Temp/ipykernel_13652/3874369097.py:10: FutureWarning: The frame.append method is deprecated and will be removed from pandas in a future version. Use pandas.concat instead.\n",
      "  return_df = return_df.append({'id':hit.id, 'metric':hit.distance, 'title':hit.entity.get('title')}, ignore_index=True) # 'chunk':hit.entity.get('chunk')},\n",
      "C:\\Users\\akaga\\AppData\\Local\\Temp/ipykernel_13652/3874369097.py:10: FutureWarning: The frame.append method is deprecated and will be removed from pandas in a future version. Use pandas.concat instead.\n",
      "  return_df = return_df.append({'id':hit.id, 'metric':hit.distance, 'title':hit.entity.get('title')}, ignore_index=True) # 'chunk':hit.entity.get('chunk')},\n",
      "C:\\Users\\akaga\\AppData\\Local\\Temp/ipykernel_13652/3874369097.py:10: FutureWarning: The frame.append method is deprecated and will be removed from pandas in a future version. Use pandas.concat instead.\n",
      "  return_df = return_df.append({'id':hit.id, 'metric':hit.distance, 'title':hit.entity.get('title')}, ignore_index=True) # 'chunk':hit.entity.get('chunk')},\n",
      "C:\\Users\\akaga\\AppData\\Local\\Temp/ipykernel_13652/3874369097.py:10: FutureWarning: The frame.append method is deprecated and will be removed from pandas in a future version. Use pandas.concat instead.\n",
      "  return_df = return_df.append({'id':hit.id, 'metric':hit.distance, 'title':hit.entity.get('title')}, ignore_index=True) # 'chunk':hit.entity.get('chunk')},\n",
      "C:\\Users\\akaga\\AppData\\Local\\Temp/ipykernel_13652/3874369097.py:10: FutureWarning: The frame.append method is deprecated and will be removed from pandas in a future version. Use pandas.concat instead.\n",
      "  return_df = return_df.append({'id':hit.id, 'metric':hit.distance, 'title':hit.entity.get('title')}, ignore_index=True) # 'chunk':hit.entity.get('chunk')},\n"
     ]
    },
    {
     "data": {
      "text/html": [
       "<table border=\"1\" class=\"dataframe\">\n",
       "  <thead>\n",
       "    <tr style=\"text-align: right;\">\n",
       "      <th></th>\n",
       "      <th>id</th>\n",
       "      <th>metric</th>\n",
       "      <th>title</th>\n",
       "    </tr>\n",
       "  </thead>\n",
       "  <tbody>\n",
       "    <tr>\n",
       "      <th>0</th>\n",
       "      <td>379816725</td>\n",
       "      <td>66.044441</td>\n",
       "      <td>Nursing students' emotional empathy, emotional intelligence and higher education-related stress: a cross-sectional study.</td>\n",
       "    </tr>\n",
       "    <tr>\n",
       "      <th>1</th>\n",
       "      <td>379829575</td>\n",
       "      <td>62.934387</td>\n",
       "      <td>Trait emotional intelligence and resilience: gender differences among university students.</td>\n",
       "    </tr>\n",
       "    <tr>\n",
       "      <th>2</th>\n",
       "      <td>379829571</td>\n",
       "      <td>62.330231</td>\n",
       "      <td>Trait emotional intelligence and resilience: gender differences among university students.</td>\n",
       "    </tr>\n",
       "    <tr>\n",
       "      <th>3</th>\n",
       "      <td>379741081</td>\n",
       "      <td>62.036442</td>\n",
       "      <td>The influence of emotional intelligence on academic stress among medical students in Neyshabur, Iran.</td>\n",
       "    </tr>\n",
       "    <tr>\n",
       "      <th>4</th>\n",
       "      <td>379794648</td>\n",
       "      <td>61.873623</td>\n",
       "      <td>An analysis of physiological responses as indicators of driver takeover readiness in conditionally automated driving.</td>\n",
       "    </tr>\n",
       "  </tbody>\n",
       "</table>"
      ],
      "text/plain": [
       "<IPython.core.display.HTML object>"
      ]
     },
     "metadata": {},
     "output_type": "display_data"
    }
   ],
   "source": [
    "result = retrieve_relevant_chunks('How does emotional intelligence affect student lives?', limit=5)\n",
    "display(HTML(result.to_html()))"
   ]
  },
  {
   "cell_type": "code",
   "execution_count": 5,
   "metadata": {},
   "outputs": [
    {
     "name": "stderr",
     "output_type": "stream",
     "text": [
      "C:\\Users\\akaga\\AppData\\Local\\Temp/ipykernel_13652/3874369097.py:10: FutureWarning: The frame.append method is deprecated and will be removed from pandas in a future version. Use pandas.concat instead.\n",
      "  return_df = return_df.append({'id':hit.id, 'metric':hit.distance, 'title':hit.entity.get('title')}, ignore_index=True) # 'chunk':hit.entity.get('chunk')},\n",
      "C:\\Users\\akaga\\AppData\\Local\\Temp/ipykernel_13652/3874369097.py:10: FutureWarning: The frame.append method is deprecated and will be removed from pandas in a future version. Use pandas.concat instead.\n",
      "  return_df = return_df.append({'id':hit.id, 'metric':hit.distance, 'title':hit.entity.get('title')}, ignore_index=True) # 'chunk':hit.entity.get('chunk')},\n",
      "C:\\Users\\akaga\\AppData\\Local\\Temp/ipykernel_13652/3874369097.py:10: FutureWarning: The frame.append method is deprecated and will be removed from pandas in a future version. Use pandas.concat instead.\n",
      "  return_df = return_df.append({'id':hit.id, 'metric':hit.distance, 'title':hit.entity.get('title')}, ignore_index=True) # 'chunk':hit.entity.get('chunk')},\n",
      "C:\\Users\\akaga\\AppData\\Local\\Temp/ipykernel_13652/3874369097.py:10: FutureWarning: The frame.append method is deprecated and will be removed from pandas in a future version. Use pandas.concat instead.\n",
      "  return_df = return_df.append({'id':hit.id, 'metric':hit.distance, 'title':hit.entity.get('title')}, ignore_index=True) # 'chunk':hit.entity.get('chunk')},\n",
      "C:\\Users\\akaga\\AppData\\Local\\Temp/ipykernel_13652/3874369097.py:10: FutureWarning: The frame.append method is deprecated and will be removed from pandas in a future version. Use pandas.concat instead.\n",
      "  return_df = return_df.append({'id':hit.id, 'metric':hit.distance, 'title':hit.entity.get('title')}, ignore_index=True) # 'chunk':hit.entity.get('chunk')},\n"
     ]
    },
    {
     "data": {
      "text/html": [
       "<table border=\"1\" class=\"dataframe\">\n",
       "  <thead>\n",
       "    <tr style=\"text-align: right;\">\n",
       "      <th></th>\n",
       "      <th>id</th>\n",
       "      <th>metric</th>\n",
       "      <th>title</th>\n",
       "    </tr>\n",
       "  </thead>\n",
       "  <tbody>\n",
       "    <tr>\n",
       "      <th>0</th>\n",
       "      <td>379796535</td>\n",
       "      <td>66.093437</td>\n",
       "      <td>Uncertainty-based Active Learning by Bayesian U-Net for Multi-label Cone-Beam CT Segmentation.</td>\n",
       "    </tr>\n",
       "    <tr>\n",
       "      <th>1</th>\n",
       "      <td>379759206</td>\n",
       "      <td>64.716415</td>\n",
       "      <td>Impact of real-life use of artificial intelligence as support for human reading in a population-based breast cancer screening program with mammography and tomosynthesis.</td>\n",
       "    </tr>\n",
       "    <tr>\n",
       "      <th>2</th>\n",
       "      <td>379738554</td>\n",
       "      <td>64.699219</td>\n",
       "      <td>Association of AI-determined Kellgren-Lawrence grade with medial meniscus extrusion and cartilage thickness by AI-based 3D MRI analysis in early knee osteoarthritis.</td>\n",
       "    </tr>\n",
       "    <tr>\n",
       "      <th>3</th>\n",
       "      <td>379760866</td>\n",
       "      <td>64.134018</td>\n",
       "      <td>Artificial Intelligence-Based Methods for Integrating Local and Global Features for Brain Cancer Imaging: Scoping Review.</td>\n",
       "    </tr>\n",
       "    <tr>\n",
       "      <th>4</th>\n",
       "      <td>379785666</td>\n",
       "      <td>64.035873</td>\n",
       "      <td>Extracellular vesicle-based liquid biopsy biomarkers and their application in precision immuno-oncology.</td>\n",
       "    </tr>\n",
       "  </tbody>\n",
       "</table>"
      ],
      "text/plain": [
       "<IPython.core.display.HTML object>"
      ]
     },
     "metadata": {},
     "output_type": "display_data"
    }
   ],
   "source": [
    "result = retrieve_relevant_chunks('What is used in brain cancer imaging?', limit=5)\n",
    "display(HTML(result.to_html()))"
   ]
  },
  {
   "cell_type": "code",
   "execution_count": null,
   "metadata": {},
   "outputs": [],
   "source": []
  }
 ],
 "metadata": {
  "kernelspec": {
   "display_name": "base",
   "language": "python",
   "name": "python3"
  },
  "language_info": {
   "codemirror_mode": {
    "name": "ipython",
    "version": 3
   },
   "file_extension": ".py",
   "mimetype": "text/x-python",
   "name": "python",
   "nbconvert_exporter": "python",
   "pygments_lexer": "ipython3",
   "version": "3.8.10"
  }
 },
 "nbformat": 4,
 "nbformat_minor": 2
}
