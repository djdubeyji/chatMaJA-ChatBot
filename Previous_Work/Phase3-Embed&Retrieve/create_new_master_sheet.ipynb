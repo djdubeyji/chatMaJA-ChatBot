{
 "cells": [
  {
   "cell_type": "code",
   "execution_count": 1,
   "metadata": {},
   "outputs": [],
   "source": [
    "import pandas as pd"
   ]
  },
  {
   "cell_type": "code",
   "execution_count": 3,
   "metadata": {},
   "outputs": [],
   "source": [
    "df = pd.read_excel('data/Raw data/raw2.xlsx')"
   ]
  },
  {
   "cell_type": "code",
   "execution_count": 9,
   "metadata": {},
   "outputs": [
    {
     "name": "stdout",
     "output_type": "stream",
     "text": [
      "Data extracted and saved to data/New Master\n"
     ]
    }
   ],
   "source": [
    "import os\n",
    "import pandas as pd\n",
    "\n",
    "# Directory containing your .xlsx files\n",
    "directory_path = 'data/Raw data'\n",
    "\n",
    "# Output CSV file path\n",
    "output_csv_path = 'data/New Master'\n",
    "\n",
    "# Initialize an empty DataFrame to store the extracted data\n",
    "result_df = pd.DataFrame(columns=['PMID', 'Title', 'Abstract'])\n",
    "\n",
    "# Loop through each file in the directory\n",
    "for filename in os.listdir(directory_path):\n",
    "    if filename.endswith(\".xlsx\"):\n",
    "        file_path = os.path.join(directory_path, filename)\n",
    "\n",
    "        # Read the Excel file into a DataFrame\n",
    "        df = pd.read_excel(file_path)\n",
    "\n",
    "        # Extract relevant columns ('PMID', 'Title', 'Abstract') and append to the result DataFrame\n",
    "        result_df = result_df.append(df[['PMID', 'Title', 'Abstract']], ignore_index=True)\n",
    "\n",
    "# Write the result DataFrame to a single CSV file\n",
    "result_df.to_csv(output_csv_path, index=False)\n",
    "\n",
    "print(f\"Data extracted and saved to {output_csv_path}\")\n"
   ]
  },
  {
   "cell_type": "code",
   "execution_count": null,
   "metadata": {},
   "outputs": [],
   "source": []
  }
 ],
 "metadata": {
  "kernelspec": {
   "display_name": "base",
   "language": "python",
   "name": "python3"
  },
  "language_info": {
   "codemirror_mode": {
    "name": "ipython",
    "version": 3
   },
   "file_extension": ".py",
   "mimetype": "text/x-python",
   "name": "python",
   "nbconvert_exporter": "python",
   "pygments_lexer": "ipython3",
   "version": "3.9.7"
  }
 },
 "nbformat": 4,
 "nbformat_minor": 2
}
