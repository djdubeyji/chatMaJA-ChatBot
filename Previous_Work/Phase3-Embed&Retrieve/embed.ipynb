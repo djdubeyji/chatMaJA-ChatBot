{
 "cells": [
  {
   "cell_type": "code",
   "execution_count": 101,
   "metadata": {},
   "outputs": [
    {
     "name": "stderr",
     "output_type": "stream",
     "text": [
      "Some weights of the model checkpoint at bert-base-uncased were not used when initializing BertModel: ['cls.predictions.transform.dense.weight', 'cls.seq_relationship.weight', 'cls.seq_relationship.bias', 'cls.predictions.bias', 'cls.predictions.transform.LayerNorm.bias', 'cls.predictions.transform.LayerNorm.weight', 'cls.predictions.transform.dense.bias', 'cls.predictions.decoder.weight']\n",
      "- This IS expected if you are initializing BertModel from the checkpoint of a model trained on another task or with another architecture (e.g. initializing a BertForSequenceClassification model from a BertForPreTraining model).\n",
      "- This IS NOT expected if you are initializing BertModel from the checkpoint of a model that you expect to be exactly identical (initializing a BertForSequenceClassification model from a BertForSequenceClassification model).\n"
     ]
    },
    {
     "name": "stdout",
     "output_type": "stream",
     "text": [
      "Data extracted and saved to data/Master_embedded/master_with_embeddings.csv\n"
     ]
    }
   ],
   "source": [
    "import pandas as pd\n",
    "from transformers import AutoTokenizer, AutoModel\n",
    "import torch\n",
    "\n",
    "# Load pre-trained BERT model and tokenizer\n",
    "bert_model_name = 'bert-base-uncased'\n",
    "tokenizer = AutoTokenizer.from_pretrained(bert_model_name)\n",
    "bert_model = AutoModel.from_pretrained(bert_model_name)\n",
    "\n",
    "# Input CSV file path\n",
    "input_csv_path = 'data/New master/master_new.csv'\n",
    "\n",
    "# Output CSV file path\n",
    "output_csv_path = 'data/Master_embedded/master_with_embeddings.csv'\n",
    "\n",
    "# Read the CSV file into a DataFrame\n",
    "master_df = pd.read_csv(input_csv_path).dropna().reset_index(drop=True)\n",
    "\n",
    "master_df = master_df[:100]\n",
    "\n",
    "new_df = pd.DataFrame(columns=['id', 'title', 'chunk', 'chunk_embedded'])\n",
    "\n",
    "batch_size = 100\n",
    "# Process abstracts in batches\n",
    "for i in range(0, len(master_df), batch_size):\n",
    "    batch_df = master_df.iloc[i:i+batch_size]\n",
    "\n",
    "    chunks = []\n",
    "    new_ids = []\n",
    "    embeddings = []\n",
    "    titles = []\n",
    "    # Tokenize and embed each sentence in the abstract using BERT\n",
    "    for idx, row in batch_df.iterrows():\n",
    "        title = row['Title']\n",
    "        abstract_sentences = row['Abstract'].split('.')\n",
    "        abstract_sentences = [sent.strip() for sent in abstract_sentences if sent.strip()]\n",
    "        abstract_chunks = ['. '.join(abstract_sentences[i:i+3]) for i in range(0, len(abstract_sentences), 3)]\n",
    "\n",
    "        for chunk_number, chunk in enumerate(abstract_chunks):\n",
    "            new_id = f'{row[\"PMID\"]}{chunk_number + 1}'\n",
    "            tokenized_chunk = tokenizer(chunk, return_tensors='pt', truncation=True, padding=True)\n",
    "            \n",
    "            with torch.no_grad():\n",
    "                model_output = bert_model(**tokenized_chunk)\n",
    "                embedding = model_output.last_hidden_state.mean(dim=1).tolist()[0]\n",
    "\n",
    "            embeddings.append(embedding)\n",
    "            chunks.append(chunk)\n",
    "            new_ids.append(new_id)\n",
    "            titles.append(title)\n",
    "            \n",
    "\n",
    "    # Update the 'Sentence_Embedded' column with the embeddings\n",
    "    new_df = new_df.append(pd.DataFrame({'id':new_ids, 'title':titles, 'chunk':chunks, 'chunk_embedded':embeddings}))\n",
    "    \n",
    "    # Clear variables to free up memory\n",
    "    del batch_df, chunks, new_ids, tokenized_chunk, model_output, embeddings\n",
    "\n",
    "# Write the updated master DataFrame to a single CSV file\n",
    "new_df.to_csv(output_csv_path, index=False)\n",
    "\n",
    "print(f\"Data extracted and saved to {output_csv_path}\")\n"
   ]
  },
  {
   "cell_type": "code",
   "execution_count": null,
   "metadata": {},
   "outputs": [],
   "source": []
  }
 ],
 "metadata": {
  "kernelspec": {
   "display_name": "base",
   "language": "python",
   "name": "python3"
  },
  "language_info": {
   "codemirror_mode": {
    "name": "ipython",
    "version": 3
   },
   "file_extension": ".py",
   "mimetype": "text/x-python",
   "name": "python",
   "nbconvert_exporter": "python",
   "pygments_lexer": "ipython3",
   "version": "3.9.7"
  }
 },
 "nbformat": 4,
 "nbformat_minor": 2
}
