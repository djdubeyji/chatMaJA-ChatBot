{
 "cells": [
  {
   "cell_type": "code",
   "execution_count": 35,
   "metadata": {},
   "outputs": [
    {
     "name": "stdout",
     "output_type": "stream",
     "text": [
      "\n",
      "=== start connecting to Milvus     ===\n",
      "\n"
     ]
    }
   ],
   "source": [
    "import time\n",
    "import pandas as pd\n",
    "import numpy as np\n",
    "from IPython.display import display, HTML\n",
    "from pymilvus import (\n",
    "    connections,\n",
    "    utility,\n",
    "    FieldSchema, CollectionSchema, DataType,\n",
    "    Collection,\n",
    ")\n",
    "\n",
    "fmt = \"\\n=== {:30} ===\\n\"\n",
    "search_latency_fmt = \"search latency = {:.4f}s\"\n",
    "num_entities, dim = 3000, 8\n",
    "\n",
    "#################################################################################\n",
    "# 1. connect to Milvus\n",
    "# Add a new connection alias `default` for Milvus server in `localhost:19530`\n",
    "# Actually the \"default\" alias is a buildin in PyMilvus.\n",
    "# If the address of Milvus is the same as `localhost:19530`, you can omit all\n",
    "# parameters and call the method as: `connections.connect()`.\n",
    "#\n",
    "# Note: the `using` parameter of the following methods is default to \"default\".\n",
    "print(fmt.format(\"start connecting to Milvus\"))\n",
    "connections.connect(\"default\", host=\"localhost\", port=\"19530\")\n",
    "\n",
    "\n",
    "test = Collection(\"test\",consistency_level=\"Strong\")\n",
    "test.load()"
   ]
  },
  {
   "cell_type": "code",
   "execution_count": 5,
   "metadata": {},
   "outputs": [
    {
     "name": "stderr",
     "output_type": "stream",
     "text": [
      "Some weights of the model checkpoint at bert-base-uncased were not used when initializing BertModel: ['cls.predictions.transform.dense.bias', 'cls.predictions.transform.LayerNorm.weight', 'cls.predictions.transform.LayerNorm.bias', 'cls.predictions.decoder.weight', 'cls.seq_relationship.bias', 'cls.predictions.bias', 'cls.predictions.transform.dense.weight', 'cls.seq_relationship.weight']\n",
      "- This IS expected if you are initializing BertModel from the checkpoint of a model trained on another task or with another architecture (e.g. initializing a BertForSequenceClassification model from a BertForPreTraining model).\n",
      "- This IS NOT expected if you are initializing BertModel from the checkpoint of a model that you expect to be exactly identical (initializing a BertForSequenceClassification model from a BertForSequenceClassification model).\n"
     ]
    }
   ],
   "source": [
    "import torch\n",
    "from transformers import AutoTokenizer, AutoModel\n",
    "\n",
    "# Load pre-trained BERT model and tokenizer\n",
    "bert_model_name = 'bert-base-uncased'\n",
    "tokenizer = AutoTokenizer.from_pretrained(bert_model_name)\n",
    "bert_model = AutoModel.from_pretrained(bert_model_name)\n",
    "\n",
    "def embed_text_with_bert(text, tokenizer=tokenizer, bert_model=bert_model):\n",
    "    # Tokenize and embed text using BERT\n",
    "    tokenized_text = tokenizer(text, return_tensors='pt', truncation=True, padding=True)\n",
    "    with torch.no_grad():\n",
    "        model_output = bert_model(**tokenized_text)\n",
    "        embedding = model_output.last_hidden_state.mean(dim=1)\n",
    "\n",
    "    return embedding.squeeze().tolist()"
   ]
  },
  {
   "cell_type": "code",
   "execution_count": 27,
   "metadata": {},
   "outputs": [],
   "source": [
    "def retrieve_relevant_chunks(query, limit=10, collection=test, tokenizer=tokenizer, bert_model=bert_model):\n",
    "    return_df = pd.DataFrame(columns=['id', 'metric', 'title', 'chunk'])\n",
    "    vector_to_search = embed_text_with_bert(query)\n",
    "    search_params = {\n",
    "        \"metric_type\": \"COSINE\"\n",
    "    }\n",
    "    result = test.search([vector_to_search], \"chunk_embedded\", search_params, limit=limit, output_fields=[\"title\", 'chunk'])\n",
    "    for hits in result:\n",
    "        for hit in hits:\n",
    "            return_df = return_df.append({'id':hit.id, 'metric':hit.distance, 'title':hit.entity.get('title'), 'chunk':hit.entity.get('chunk')}, ignore_index=True)\n",
    "    return return_df\n"
   ]
  },
  {
   "cell_type": "code",
   "execution_count": 37,
   "metadata": {},
   "outputs": [
    {
     "data": {
      "text/html": [
       "<table border=\"1\" class=\"dataframe\">\n",
       "  <thead>\n",
       "    <tr style=\"text-align: right;\">\n",
       "      <th></th>\n",
       "      <th>id</th>\n",
       "      <th>metric</th>\n",
       "      <th>title</th>\n",
       "      <th>chunk</th>\n",
       "    </tr>\n",
       "  </thead>\n",
       "  <tbody>\n",
       "    <tr>\n",
       "      <th>0</th>\n",
       "      <td>379736804</td>\n",
       "      <td>0.745491</td>\n",
       "      <td>Students' Foreign Language Learning Adaptability and Mental Health Supported by Artificial Intelligence.</td>\n",
       "      <td>Psychological health problems include learning anxiety, loneliness, depression, and inferiority in college students' foreign language learning. These negative emotions, to a certain extent, affect the learning effect of college students' foreign language learning. This paper is of great significance to the adaptability of college students' foreign language learning to the intelligent environment and the analysis of their mental health problems</td>\n",
       "    </tr>\n",
       "    <tr>\n",
       "      <th>1</th>\n",
       "      <td>379829576</td>\n",
       "      <td>0.721002</td>\n",
       "      <td>Trait emotional intelligence and resilience: gender differences among university students.</td>\n",
       "      <td>For prevention of mental disorders and to foster wellbeing, it might be helpful to focus on improvement of self-perception in girls and women, and on supporting emotional awareness towards other people's emotions in boys and men. Further studies in the field should address other populations</td>\n",
       "    </tr>\n",
       "    <tr>\n",
       "      <th>2</th>\n",
       "      <td>379741086</td>\n",
       "      <td>0.720428</td>\n",
       "      <td>The influence of emotional intelligence on academic stress among medical students in Neyshabur, Iran.</td>\n",
       "      <td>Intervention based on emotional intelligence significantly (p &lt; 0. 05) improved students' emotional intelligence skills and decreased their academic stress and reactions to stressors in the intervention group. CONCLUSION: It appears that emotional intelligence training is a feasible and highly acceptable way to develop coping skills with academic stress; therefore, such training is essential to be considered as part of university education to improve students' education quality and their skills to study without academic stress</td>\n",
       "    </tr>\n",
       "    <tr>\n",
       "      <th>3</th>\n",
       "      <td>379736805</td>\n",
       "      <td>0.717203</td>\n",
       "      <td>Students' Foreign Language Learning Adaptability and Mental Health Supported by Artificial Intelligence.</td>\n",
       "      <td>This paper hopes to provide data reference for the research on improving college students' foreign language learning effects</td>\n",
       "    </tr>\n",
       "    <tr>\n",
       "      <th>4</th>\n",
       "      <td>379829571</td>\n",
       "      <td>0.715925</td>\n",
       "      <td>Trait emotional intelligence and resilience: gender differences among university students.</td>\n",
       "      <td>BACKGROUND: Previous studies have reported strong correlations of emotional intelligence (EI) with mental health and wellbeing; it is also a powerful predictor of social functioning and personal adaption. Resilience is the ability to adapt to significant life stressors and is also crucial for maintaining and restoring physical and mental health. The aim of this study was to investigate EI and resilience in healthy university students, with a focus on gender differences in EI and resilience components</td>\n",
       "    </tr>\n",
       "  </tbody>\n",
       "</table>"
      ],
      "text/plain": [
       "<IPython.core.display.HTML object>"
      ]
     },
     "metadata": {},
     "output_type": "display_data"
    }
   ],
   "source": [
    "result = retrieve_relevant_chunks('How does emotional intelligence affect student lives?', limit=5)\n",
    "display(HTML(result.to_html()))"
   ]
  },
  {
   "cell_type": "code",
   "execution_count": 38,
   "metadata": {},
   "outputs": [
    {
     "data": {
      "text/html": [
       "<table border=\"1\" class=\"dataframe\">\n",
       "  <thead>\n",
       "    <tr style=\"text-align: right;\">\n",
       "      <th></th>\n",
       "      <th>id</th>\n",
       "      <th>metric</th>\n",
       "      <th>title</th>\n",
       "      <th>chunk</th>\n",
       "    </tr>\n",
       "  </thead>\n",
       "  <tbody>\n",
       "    <tr>\n",
       "      <th>0</th>\n",
       "      <td>379751973</td>\n",
       "      <td>0.762949</td>\n",
       "      <td>Covalent drugs based on small molecules and peptides for disease theranostics.</td>\n",
       "      <td>Finally, we discuss the application of covalent peptide drugs and expect to provide a new reference for cancer treatment</td>\n",
       "    </tr>\n",
       "    <tr>\n",
       "      <th>1</th>\n",
       "      <td>379770544</td>\n",
       "      <td>0.761487</td>\n",
       "      <td>Research related to the diagnosis of prostate cancer based on machine learning medical images: A review.</td>\n",
       "      <td>DISCUSSION: Machine learning and deep learning combined with medical imaging have a broad application prospect for the diagnosis and staging of prostate cancer, but the research in this area still has more room for development</td>\n",
       "    </tr>\n",
       "    <tr>\n",
       "      <th>2</th>\n",
       "      <td>379760861</td>\n",
       "      <td>0.745016</td>\n",
       "      <td>Artificial Intelligence-Based Methods for Integrating Local and Global Features for Brain Cancer Imaging: Scoping Review.</td>\n",
       "      <td>BACKGROUND: Transformer-based models are gaining popularity in medical imaging and cancer imaging applications. Many recent studies have demonstrated the use of transformer-based models for brain cancer imaging applications such as diagnosis and tumor segmentation. OBJECTIVE: This study aims to review how different vision transformers (ViTs) contributed to advancing brain cancer diagnosis and tumor segmentation using brain image data</td>\n",
       "    </tr>\n",
       "    <tr>\n",
       "      <th>3</th>\n",
       "      <td>379825021</td>\n",
       "      <td>0.730981</td>\n",
       "      <td>Artificial Intelligence in Melanoma Dermatopathology: A Review of Literature.</td>\n",
       "      <td>Pathology serves as a promising field to integrate artificial intelligence into clinical practice as a powerful screening tool. Melanoma is a common skin cancer with high mortality and morbidity, requiring timely and accurate histopathologic diagnosis. This review explores applications of artificial intelligence in melanoma dermatopathology, including differential diagnostics, prognosis prediction, and personalized medicine decision-making</td>\n",
       "    </tr>\n",
       "    <tr>\n",
       "      <th>4</th>\n",
       "      <td>379775502</td>\n",
       "      <td>0.727216</td>\n",
       "      <td>Detection of large-droplet macrovesicular steatosis in donor Livers based on segment-anything model.</td>\n",
       "      <td>Artificial intelligence (AI) models, such as segmentation and detection models, are being developed to detect LDF cells. The Segment-Anything Model, utilizing the DETR architecture, has the ability to segment objects without prior knowledge of size or shape. We investigated the Segment-Anything Model's potential to detect LDF hepatocytes in liver biopsies</td>\n",
       "    </tr>\n",
       "  </tbody>\n",
       "</table>"
      ],
      "text/plain": [
       "<IPython.core.display.HTML object>"
      ]
     },
     "metadata": {},
     "output_type": "display_data"
    }
   ],
   "source": [
    "result = retrieve_relevant_chunks('What is used in brain cancer imaging?', limit=5)\n",
    "display(HTML(result.to_html()))"
   ]
  }
 ],
 "metadata": {
  "kernelspec": {
   "display_name": "base",
   "language": "python",
   "name": "python3"
  },
  "language_info": {
   "codemirror_mode": {
    "name": "ipython",
    "version": 3
   },
   "file_extension": ".py",
   "mimetype": "text/x-python",
   "name": "python",
   "nbconvert_exporter": "python",
   "pygments_lexer": "ipython3",
   "version": "3.9.7"
  }
 },
 "nbformat": 4,
 "nbformat_minor": 2
}
