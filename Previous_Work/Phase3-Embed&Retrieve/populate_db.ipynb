{
 "cells": [
  {
   "cell_type": "code",
   "execution_count": 1,
   "metadata": {},
   "outputs": [
    {
     "name": "stdout",
     "output_type": "stream",
     "text": [
      "\n",
      "=== start connecting to Milvus     ===\n",
      "\n"
     ]
    }
   ],
   "source": [
    "import time\n",
    "\n",
    "import numpy as np\n",
    "from pymilvus import (\n",
    "    connections,\n",
    "    utility,\n",
    "    FieldSchema, CollectionSchema, DataType,\n",
    "    Collection,\n",
    ")\n",
    "\n",
    "fmt = \"\\n=== {:30} ===\\n\"\n",
    "search_latency_fmt = \"search latency = {:.4f}s\"\n",
    "num_entities, dim = 3000, 8\n",
    "\n",
    "#################################################################################\n",
    "# 1. connect to Milvus\n",
    "# Add a new connection alias `default` for Milvus server in `localhost:19530`\n",
    "# Actually the \"default\" alias is a buildin in PyMilvus.\n",
    "# If the address of Milvus is the same as `localhost:19530`, you can omit all\n",
    "# parameters and call the method as: `connections.connect()`.\n",
    "#\n",
    "# Note: the `using` parameter of the following methods is default to \"default\".\n",
    "print(fmt.format(\"start connecting to Milvus\"))\n",
    "connections.connect(\"default\", host=\"localhost\", port=\"19530\")"
   ]
  },
  {
   "cell_type": "code",
   "execution_count": 2,
   "metadata": {},
   "outputs": [
    {
     "name": "stdout",
     "output_type": "stream",
     "text": [
      "Does collection test exist in Milvus: False\n"
     ]
    }
   ],
   "source": [
    "has = utility.has_collection(\"test\")\n",
    "print(f\"Does collection test exist in Milvus: {has}\")"
   ]
  },
  {
   "cell_type": "code",
   "execution_count": 36,
   "metadata": {},
   "outputs": [
    {
     "name": "stdout",
     "output_type": "stream",
     "text": [
      "\n",
      "=== Create collection `test`       ===\n",
      "\n"
     ]
    }
   ],
   "source": [
    "fields = [\n",
    "    FieldSchema(name=\"pmid\", dtype=DataType.INT64, is_primary=True, auto_id=False, max_length=100),\n",
    "    FieldSchema(name=\"title\", dtype=DataType.VARCHAR, max_length=500),\n",
    "    FieldSchema(name=\"abstract_embedded\", dtype=DataType.FLOAT_VECTOR, dim=768)\n",
    "]\n",
    "\n",
    "schema = CollectionSchema(fields, \"test db\")\n",
    "\n",
    "print(fmt.format(\"Create collection `test`\"))\n",
    "test = Collection(\"test\", schema, consistency_level=\"Strong\")"
   ]
  },
  {
   "cell_type": "code",
   "execution_count": 9,
   "metadata": {},
   "outputs": [
    {
     "data": {
      "text/html": [
       "<div>\n",
       "<style scoped>\n",
       "    .dataframe tbody tr th:only-of-type {\n",
       "        vertical-align: middle;\n",
       "    }\n",
       "\n",
       "    .dataframe tbody tr th {\n",
       "        vertical-align: top;\n",
       "    }\n",
       "\n",
       "    .dataframe thead th {\n",
       "        text-align: right;\n",
       "    }\n",
       "</style>\n",
       "<table border=\"1\" class=\"dataframe\">\n",
       "  <thead>\n",
       "    <tr style=\"text-align: right;\">\n",
       "      <th></th>\n",
       "      <th>PMID</th>\n",
       "      <th>Title</th>\n",
       "      <th>Abstract</th>\n",
       "      <th>Abstract_Embedded</th>\n",
       "    </tr>\n",
       "  </thead>\n",
       "  <tbody>\n",
       "    <tr>\n",
       "      <th>0</th>\n",
       "      <td>37982991</td>\n",
       "      <td>Efficacy and Safety of Methylphenidate and Ato...</td>\n",
       "      <td>BACKGROUND AND OBJECTIVE: Methylphenidate (MPH...</td>\n",
       "      <td>[-0.5406845808029175, -0.013531085103750229, 0...</td>\n",
       "    </tr>\n",
       "    <tr>\n",
       "      <th>1</th>\n",
       "      <td>37982957</td>\n",
       "      <td>Trait emotional intelligence and resilience: g...</td>\n",
       "      <td>BACKGROUND: Previous studies have reported str...</td>\n",
       "      <td>[-0.4673023521900177, -0.03475865721702576, 0....</td>\n",
       "    </tr>\n",
       "    <tr>\n",
       "      <th>2</th>\n",
       "      <td>37982736</td>\n",
       "      <td>Exploring the feasibility of an artificial int...</td>\n",
       "      <td>Objective: Skin examination to detect cutaneou...</td>\n",
       "      <td>[-0.23864585161209106, -0.05839263275265694, 0...</td>\n",
       "    </tr>\n",
       "    <tr>\n",
       "      <th>3</th>\n",
       "      <td>37982681</td>\n",
       "      <td>Deep learning-based NT-proBNP prediction from ...</td>\n",
       "      <td>OBJECTIVES: The biomarker N-terminal pro B-typ...</td>\n",
       "      <td>[-0.37724465131759644, -0.21561074256896973, 0...</td>\n",
       "    </tr>\n",
       "    <tr>\n",
       "      <th>4</th>\n",
       "      <td>37982677</td>\n",
       "      <td>Artificial Intelligence Versus Expert Plastic ...</td>\n",
       "      <td>Introduction: Large language models, such as C...</td>\n",
       "      <td>[-0.26065611839294434, -0.06109241023659706, 0...</td>\n",
       "    </tr>\n",
       "  </tbody>\n",
       "</table>\n",
       "</div>"
      ],
      "text/plain": [
       "       PMID                                              Title  \\\n",
       "0  37982991  Efficacy and Safety of Methylphenidate and Ato...   \n",
       "1  37982957  Trait emotional intelligence and resilience: g...   \n",
       "2  37982736  Exploring the feasibility of an artificial int...   \n",
       "3  37982681  Deep learning-based NT-proBNP prediction from ...   \n",
       "4  37982677  Artificial Intelligence Versus Expert Plastic ...   \n",
       "\n",
       "                                            Abstract  \\\n",
       "0  BACKGROUND AND OBJECTIVE: Methylphenidate (MPH...   \n",
       "1  BACKGROUND: Previous studies have reported str...   \n",
       "2  Objective: Skin examination to detect cutaneou...   \n",
       "3  OBJECTIVES: The biomarker N-terminal pro B-typ...   \n",
       "4  Introduction: Large language models, such as C...   \n",
       "\n",
       "                                   Abstract_Embedded  \n",
       "0  [-0.5406845808029175, -0.013531085103750229, 0...  \n",
       "1  [-0.4673023521900177, -0.03475865721702576, 0....  \n",
       "2  [-0.23864585161209106, -0.05839263275265694, 0...  \n",
       "3  [-0.37724465131759644, -0.21561074256896973, 0...  \n",
       "4  [-0.26065611839294434, -0.06109241023659706, 0...  "
      ]
     },
     "execution_count": 9,
     "metadata": {},
     "output_type": "execute_result"
    }
   ],
   "source": [
    "import pandas as pd\n",
    "df = pd.read_csv('data/Master_embedded/master_with_embeddings.csv')\n",
    "df.head()"
   ]
  },
  {
   "cell_type": "code",
   "execution_count": 29,
   "metadata": {},
   "outputs": [],
   "source": [
    "import ast\n",
    "Embedings = [ast.literal_eval(x) for x in df.Abstract_Embedded]\n",
    "entities = [list(df.PMID), list(df.Title), Embedings]"
   ]
  },
  {
   "cell_type": "code",
   "execution_count": 43,
   "metadata": {},
   "outputs": [
    {
     "name": "stdout",
     "output_type": "stream",
     "text": [
      "Number of entities in Milvus: 100\n"
     ]
    }
   ],
   "source": [
    "insert_result = test.insert(entities)\n",
    "test.flush()\n",
    "print(f\"Number of entities in Milvus: {test.num_entities}\")  "
   ]
  },
  {
   "cell_type": "code",
   "execution_count": 40,
   "metadata": {},
   "outputs": [
    {
     "name": "stderr",
     "output_type": "stream",
     "text": [
      "Some weights of the model checkpoint at bert-base-uncased were not used when initializing BertModel: ['cls.predictions.transform.LayerNorm.bias', 'cls.seq_relationship.weight', 'cls.predictions.decoder.weight', 'cls.predictions.transform.LayerNorm.weight', 'cls.predictions.bias', 'cls.seq_relationship.bias', 'cls.predictions.transform.dense.weight', 'cls.predictions.transform.dense.bias']\n",
      "- This IS expected if you are initializing BertModel from the checkpoint of a model trained on another task or with another architecture (e.g. initializing a BertForSequenceClassification model from a BertForPreTraining model).\n",
      "- This IS NOT expected if you are initializing BertModel from the checkpoint of a model that you expect to be exactly identical (initializing a BertForSequenceClassification model from a BertForSequenceClassification model).\n"
     ]
    }
   ],
   "source": [
    "import torch\n",
    "from transformers import AutoTokenizer, AutoModel\n",
    "\n",
    "# Load pre-trained BERT model and tokenizer\n",
    "bert_model_name = 'bert-base-uncased'\n",
    "tokenizer = AutoTokenizer.from_pretrained(bert_model_name)\n",
    "bert_model = AutoModel.from_pretrained(bert_model_name)\n",
    "\n",
    "def embed_text_with_bert(text, tokenizer=tokenizer, bert_model=bert_model):\n",
    "    # Tokenize and embed text using BERT\n",
    "    tokenized_text = tokenizer(text, return_tensors='pt', truncation=True, padding=True)\n",
    "    with torch.no_grad():\n",
    "        model_output = bert_model(**tokenized_text)\n",
    "        embedding = model_output.last_hidden_state.mean(dim=1)\n",
    "\n",
    "    return embedding.squeeze().tolist()"
   ]
  },
  {
   "cell_type": "code",
   "execution_count": 105,
   "metadata": {},
   "outputs": [
    {
     "data": {
      "text/plain": [
       "Status(code=0, message=)"
      ]
     },
     "execution_count": 105,
     "metadata": {},
     "output_type": "execute_result"
    }
   ],
   "source": [
    "index = {\n",
    "    \"index_type\": \"IVF_FLAT\",\n",
    "    \"metric_type\": \"IP\",\n",
    "    \"params\": {\"nlist\": 128},\n",
    "}\n",
    "\n",
    "test.create_index(\"abstract_embedded\", index)"
   ]
  },
  {
   "cell_type": "code",
   "execution_count": 66,
   "metadata": {},
   "outputs": [],
   "source": []
  },
  {
   "cell_type": "code",
   "execution_count": 106,
   "metadata": {},
   "outputs": [],
   "source": [
    "#test.release()\n",
    "#test.drop_index()\n",
    "test.load()"
   ]
  },
  {
   "cell_type": "code",
   "execution_count": 121,
   "metadata": {},
   "outputs": [],
   "source": [
    "vector_to_search = embed_text_with_bert('Tell me something about autism disease')\n",
    "search_params = {\n",
    "    \"metric_type\": \"IP\"#,\n",
    "    #\"params\": {\"nprobe\": 10},\n",
    "}\n",
    "result = test.search([vector_to_search], \"abstract_embedded\", search_params, limit=10, output_fields=[\"title\"])"
   ]
  },
  {
   "cell_type": "code",
   "execution_count": 122,
   "metadata": {},
   "outputs": [
    {
     "name": "stdout",
     "output_type": "stream",
     "text": [
      "hit: id: 37980928, distance: 35.89857864379883, entity: {'title': 'Automatic machine learning versus human knowledge-based models, property-based models and the fatigue problem.'}, title field: Automatic machine learning versus human knowledge-based models, property-based models and the fatigue problem.\n",
      "hit: id: 37973680, distance: 35.85193634033203, entity: {'title': \"Students' Foreign Language Learning Adaptability and Mental Health Supported by Artificial Intelligence.\"}, title field: Students' Foreign Language Learning Adaptability and Mental Health Supported by Artificial Intelligence.\n",
      "hit: id: 37974108, distance: 34.998130798339844, entity: {'title': 'The influence of emotional intelligence on academic stress among medical students in Neyshabur, Iran.'}, title field: The influence of emotional intelligence on academic stress among medical students in Neyshabur, Iran.\n",
      "hit: id: 37978257, distance: 34.92961120605469, entity: {'title': 'Sensory sensitivity and intelligence are correlated with nutrient deficiency in children with autism spectrum disorder and intellectual disability.'}, title field: Sensory sensitivity and intelligence are correlated with nutrient deficiency in children with autism spectrum disorder and intellectual disability.\n",
      "hit: id: 37975064, distance: 34.853572845458984, entity: {'title': 'A Movement Detection System Using Continuous-Wave Doppler Radar Sensor and Convolutional Neural Network to Detect Cough and Other Gestures.'}, title field: A Movement Detection System Using Continuous-Wave Doppler Radar Sensor and Convolutional Neural Network to Detect Cough and Other Gestures.\n",
      "hit: id: 37974507, distance: 34.786827087402344, entity: {'title': 'Efficient prediction of peptide self-assembly through sequential and graphical encoding.'}, title field: Efficient prediction of peptide self-assembly through sequential and graphical encoding.\n",
      "hit: id: 37982070, distance: 34.76869201660156, entity: {'title': 'Leveraging Data Science to Combat COVID-19: A Comprehensive Review.'}, title field: Leveraging Data Science to Combat COVID-19: A Comprehensive Review.\n",
      "hit: id: 37979500, distance: 34.62324523925781, entity: {'title': 'Conversational agents for depression screening: A systematic review.'}, title field: Conversational agents for depression screening: A systematic review.\n",
      "hit: id: 37980501, distance: 34.56432342529297, entity: {'title': '\"Application and accuracy of artificial intelligence-derived large language models in patients with age related macular degeneration\".'}, title field: \"Application and accuracy of artificial intelligence-derived large language models in patients with age related macular degeneration\".\n",
      "hit: id: 37974568, distance: 34.53913497924805, entity: {'title': '\"Just the Facts Ma\\'am\": Moral and Ethical Considerations for Artificial Intelligence in Medicine and its Potential to Impact Patient Autonomy and Hope.'}, title field: \"Just the Facts Ma'am\": Moral and Ethical Considerations for Artificial Intelligence in Medicine and its Potential to Impact Patient Autonomy and Hope.\n"
     ]
    }
   ],
   "source": [
    "for hits in result:\n",
    "    for hit in hits:\n",
    "        print(f\"hit: {hit}, title field: {hit.entity.get('title')}\")"
   ]
  },
  {
   "cell_type": "code",
   "execution_count": 79,
   "metadata": {},
   "outputs": [
    {
     "data": {
      "text/plain": [
       "768"
      ]
     },
     "execution_count": 79,
     "metadata": {},
     "output_type": "execute_result"
    }
   ],
   "source": [
    "len(vector_to_search)"
   ]
  },
  {
   "cell_type": "code",
   "execution_count": null,
   "metadata": {},
   "outputs": [],
   "source": []
  }
 ],
 "metadata": {
  "kernelspec": {
   "display_name": "base",
   "language": "python",
   "name": "python3"
  },
  "language_info": {
   "codemirror_mode": {
    "name": "ipython",
    "version": 3
   },
   "file_extension": ".py",
   "mimetype": "text/x-python",
   "name": "python",
   "nbconvert_exporter": "python",
   "pygments_lexer": "ipython3",
   "version": "3.9.7"
  }
 },
 "nbformat": 4,
 "nbformat_minor": 2
}
